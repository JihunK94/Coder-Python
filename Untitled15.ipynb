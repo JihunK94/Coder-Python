{
  "nbformat": 4,
  "nbformat_minor": 0,
  "metadata": {
    "colab": {
      "provenance": [],
      "authorship_tag": "ABX9TyNybanoCNdMZ6VJolscofPx",
      "include_colab_link": true
    },
    "kernelspec": {
      "name": "python3",
      "display_name": "Python 3"
    },
    "language_info": {
      "name": "python"
    }
  },
  "cells": [
    {
      "cell_type": "markdown",
      "metadata": {
        "id": "view-in-github",
        "colab_type": "text"
      },
      "source": [
        "<a href=\"https://colab.research.google.com/github/JihunK94/Coder-Python/blob/master/Untitled15.ipynb\" target=\"_parent\"><img src=\"https://colab.research.google.com/assets/colab-badge.svg\" alt=\"Open In Colab\"/></a>"
      ]
    },
    {
      "cell_type": "code",
      "execution_count": 4,
      "metadata": {
        "colab": {
          "base_uri": "https://localhost:8080/"
        },
        "id": "8bHwxoUumrhp",
        "outputId": "b1e64f6e-0871-4487-9ad2-d1c61f833287"
      },
      "outputs": [
        {
          "output_type": "stream",
          "name": "stdout",
          "text": [
            "Bienvenidos! inicie sesión para poder disfrutar de nuestro contenido\n",
            "\n",
            "1. Crear usuario y contraseña\n",
            "2. Loggin\n",
            "3. Salir del programa\n",
            "Seleccione alguna de las tres opciones4\n",
            "Opción invalida, vuelva a intentar\n",
            "\n",
            "1. Crear usuario y contraseña\n",
            "2. Loggin\n",
            "3. Salir del programa\n",
            "Seleccione alguna de las tres opciones3\n",
            "Adiós, nos vemos pronto\n"
          ]
        }
      ],
      "source": [
        "usuarios_lista :list[dict] = []\n",
        "\n",
        "print(\"Bienvenidos! inicie sesión para poder disfrutar de nuestro contenido\")\n",
        "\n",
        "while True:\n",
        "  print()\n",
        "  print(\"1. Crear usuario y contraseña\")\n",
        "  print(\"2. Loggin\")\n",
        "  print(\"3. Salir del programa\")\n",
        "  opción = input(\"Seleccione alguna de las tres opciones\")\n",
        "\n",
        "  if opción == \"1\":\n",
        "    logon()\n",
        "  elif opción == \"2\":\n",
        "    login()\n",
        "  elif opción == \"3\":\n",
        "    print(\"Adiós, nos vemos pronto\")\n",
        "    break\n",
        "  else:\n",
        "    print(\"Opción invalida, vuelva a intentar\")\n",
        "\n",
        "\n"
      ]
    }
  ]
}